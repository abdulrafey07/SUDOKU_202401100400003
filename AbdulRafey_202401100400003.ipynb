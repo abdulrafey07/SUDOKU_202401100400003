{
  "nbformat": 4,
  "nbformat_minor": 0,
  "metadata": {
    "colab": {
      "provenance": []
    },
    "kernelspec": {
      "name": "python3",
      "display_name": "Python 3"
    },
    "language_info": {
      "name": "python"
    }
  },
  "cells": [
    {
      "source": [
        "def is_valid(board, row, col, num):\n",
        "    \"\"\"Check if it's valid to place num in board[row][col]\"\"\"\n",
        "    for i in range(9):\n",
        "        # Check if num exists in the same row or column\n",
        "        if board[row][i] == num or board[i][col] == num:\n",
        "            return False\n",
        "\n",
        "    # Check if num exists in the 3x3 subgrid\n",
        "    start_row, start_col = 3 * (row // 3), 3 * (col // 3)\n",
        "    for i in range(3):\n",
        "        for j in range(3):\n",
        "            if board[start_row + i][start_col + j] == num:\n",
        "                return False\n",
        "\n",
        "    return True"
      ],
      "cell_type": "code",
      "metadata": {
        "id": "ct7-1_3eUaFa"
      },
      "execution_count": 5,
      "outputs": []
    },
    {
      "source": [
        "def solve_sudoku(board):\n",
        "    \"\"\"Solve the Sudoku puzzle using backtracking\"\"\"\n",
        "    for row in range(9):\n",
        "        for col in range(9):\n",
        "            # Find an empty cell\n",
        "            if board[row][col] == 0:\n",
        "                for num in range(1, 10):  # Try numbers 1-9\n",
        "                    if is_valid(board, row, col, num):\n",
        "                        board[row][col] = num  # Place the number\n",
        "                        if solve_sudoku(board):  # Recur to solve rest of the board\n",
        "                            return True\n",
        "                        board[row][col] = 0  # Backtrack if not solvable\n",
        "                return False  # No valid number found, trigger backtracking\n",
        "    return True  # Puzzle solved"
      ],
      "cell_type": "code",
      "metadata": {
        "id": "o_dttpbQUf_3"
      },
      "execution_count": 6,
      "outputs": []
    },
    {
      "source": [
        "def print_board(board):\n",
        "    \"\"\"Print the Sudoku board in a readable format\"\"\"\n",
        "    for row in board:\n",
        "        print(\" \".join(str(num) if num != 0 else '.' for num in row))\n",
        "\n",
        "# Example Sudoku puzzle (0 represents empty cells)\n",
        "sudoku_board = [\n",
        "    [5, 3, 0, 0, 7, 0, 0, 0, 0],\n",
        "    [6, 0, 0, 1, 9, 5, 0, 0, 0],\n",
        "    [0, 9, 8, 0, 0, 0, 0, 6, 0],\n",
        "    [8, 0, 0, 0, 6, 0, 0, 0, 3],\n",
        "    [4, 0, 0, 8, 0, 3, 0, 0, 1],\n",
        "    [7, 0, 0, 0, 2, 0, 0, 0, 6],\n",
        "    [0, 6, 0, 0, 0, 0, 2, 8, 0],\n",
        "    [0, 0, 0, 4, 1, 9, 0, 0, 5],\n",
        "    [0, 0, 0, 0, 8, 0, 0, 7, 9]\n",
        "]\n",
        "\n",
        "# Solve the Sudoku puzzle and print the solution\n",
        "if solve_sudoku(sudoku_board):\n",
        "    print(\"Solved Sudoku:\")\n",
        "    print_board(sudoku_board)\n",
        "else:\n",
        "    print(\"No solution exists\")"
      ],
      "cell_type": "code",
      "metadata": {
        "colab": {
          "base_uri": "https://localhost:8080/"
        },
        "id": "CDImzPSsPZPC",
        "outputId": "82c60971-ea41-446a-e8cb-4ebba5634c29"
      },
      "execution_count": 17,
      "outputs": [
        {
          "output_type": "stream",
          "name": "stdout",
          "text": [
            "Solved Sudoku:\n",
            "5 3 4 6 7 8 9 1 2\n",
            "6 7 2 1 9 5 3 4 8\n",
            "1 9 8 3 4 2 5 6 7\n",
            "8 5 9 7 6 1 4 2 3\n",
            "4 2 6 8 5 3 7 9 1\n",
            "7 1 3 9 2 4 8 5 6\n",
            "9 6 1 5 3 7 2 8 4\n",
            "2 8 7 4 1 9 6 3 5\n",
            "3 4 5 2 8 6 1 7 9\n"
          ]
        }
      ]
    }
  ]
}